{
 "cells": [
  {
   "cell_type": "markdown",
   "metadata": {},
   "source": [
    "# Coursera IBM Data Science Capstone Project - The Battle of the Neighborhoods (Week 1 of 2)"
   ]
  },
  {
   "cell_type": "markdown",
   "metadata": {},
   "source": [
    "## Determining the Ideal Location for a New Gym in Austin, TX"
   ]
  },
  {
   "cell_type": "markdown",
   "metadata": {},
   "source": [
    "### Table of Contents"
   ]
  },
  {
   "cell_type": "markdown",
   "metadata": {},
   "source": [
    "* [Introduction](#introduction)\n",
    "* [Business Problem](#problem)\n",
    "* [Data](#dataset)\n",
    "* [Methodology](#method)\n",
    "* [References](#references)"
   ]
  },
  {
   "cell_type": "markdown",
   "metadata": {},
   "source": [
    "### Introduction <a name=\"introduction\"></a>"
   ]
  },
  {
   "cell_type": "markdown",
   "metadata": {},
   "source": [
    "Obesity is a major problem in America, resulting in major health, social, and economic disruptions that have a devastating effect on the county.  According to the CDC, the annual medical cost of obesity was estimated at \\\\$147 billion in 2008 (1).  This equates to an average additional annual medical cost of $1,429 for an obese person as compared to a person of normal weight.  This does not even take into account the tertiary costs such as an increase in lost time at work due to higher rates of illness, injury or disability, or the higher insurance premiums that are incurred as a result of obesity (2).   \n",
    "\n",
    "Obesity rates have been on the rise in America for decades.  In the last decade alone, the obesity rates have risen from 27.4% for adults in 2011 to 30.9% in 2018.  The adolescent obesity rate (students in grades 9-12) has risen from 10.5% in 2001 to 14.8% in 2017 (3).  In my home state of Texas, the prevalence of adult obesity was 34.8% in 2018."
   ]
  },
  {
   "cell_type": "markdown",
   "metadata": {},
   "source": [
    "### Business Problem <a name=\"problem\"></a>"
   ]
  },
  {
   "cell_type": "markdown",
   "metadata": {},
   "source": [
    "The best method to combat the rising obesity rates in America is to promote prevention of obesity before its onset.  According to the Center for Disease Control (CDC), the three primary strategies to prevent obesity include state and local programs, community efforts, and healthy living (4).    Within the healthy living strategy, one of the primary goals is to ensure an adequate amount of physical activity each week.   The current guideline for adults as of 2018 is 150 minutes of physical activity per week, or approximately 30 minutes per day, 5 days a week (5).  \n",
    "\n",
    "A great way to achieve the recommended 150 minutes of physical activity per day is to utilize a gym membership.  Gyms offer a wide variety of options for physical activities, which can range from free weights and strength machines, to cardio machines such as treadmills and ellipticals, and many even offer group activities such as yoga and cardio classes.   The popularity of gyms has been on a steady rise, with total number of fitness center/health club memberships increasing from 32.8 million in 2000 to 60.87 million in 2017 (6).\n",
    "\n",
    "Given the severity of the obesity epidemic that plagues our nation, as well as the increasing popularity of gyms, I believe that opening a gym would provide a good return-on-investment both from a monetary perspective, and also from the societal benefit that would be provided by promoting a healthier lifestyle.    Specifically, I believe that my home city of Austin is an ideal location to pursue opening a new gym, given Austin’s increasing popularity and rapidly growing population.   The population of Austin according to the 2010 census was 790,390, and the estimated population as of July 1, 2018 was 964,254, representing a 22% population increase over that timespan.\n",
    "\n",
    "The target market for this gym would be the entire community in which it resides, as the gym would provide ample variety in activities that all age groups from adolescent to senior citizen would be able to partake and benefit from the physical activity, promoting healthier lifestyles and aiding in the prevention of obesity in Austin."
   ]
  },
  {
   "cell_type": "markdown",
   "metadata": {},
   "source": [
    "### Data <a name=\"dataset\"></a>"
   ]
  },
  {
   "cell_type": "markdown",
   "metadata": {},
   "source": [
    "To evaluate this business proposition, several data sets will be utilized.  The first data sets are the previously referenced CDC Obesity data and Austin Census data, as these will provide a good visualization of the obesity problem in America and reinforce the opportunity that opening a gym in Austin would provide.\n",
    "\n",
    "The next data set will be a list of all US zip codes (7), from which we can determine all the zip codes within Austin, TX.  We will use this as the means by which we will cluster the city, and use data regarding current gym locations obtain from the FourSquare API to determine the area that is currently most underserved in regards to current gym locations within Austin, as that will provide a good indication of where to consider for opening a new gym."
   ]
  },
  {
   "cell_type": "markdown",
   "metadata": {},
   "source": [
    "### Methodology <a name=\"method\"></a>"
   ]
  },
  {
   "cell_type": "markdown",
   "metadata": {},
   "source": [
    "To properly manipulate, visualize, and analyze the aforementioned datasets, multiple resources will be utilized.  Jupyter Notebook, an open-source web application, will be used to utilize Python 3 programming code, which will be the primary means of collecting, analyzing, visualizing, and reviewing the data.  The Pandas Library, which offers data structures and operations for manipulating data, will be used to import the datasets from CSV and XLS files downloaded from the internet with data pertaining to US zip codes and data associated with the zip codes, US adult and adolescent obesity rates, and data regarding US gym memberships.  Pandas will then be used to extract the relevant data from each dataset and create new concise dataframes containing only the data that is required. \n",
    "\n",
    "Matplotlib, a plotting library in Python, will be used to create graphs to provide a good visualization of historical US adult obesity rates and of historical US health club/fitness center memberships to provide a tool for justifying the business purpose of opening a new gym.\n",
    "\n",
    "GeoPy, a client for geocoding web services, will be used to take advantage of Nomatim API package, which will be used to determine the coordinates of Austin, TX via it’s search of OpenStreetMap based on the provided input of the city and state.  These coordinates will then be used to generate a map with help of the Folium package in Python.  Folium is a library that allows for a visualization of interactive spatial data.  Once this map is created, markers will be added to the map to indicate the exact location of all the zip codes within Austin city limits, by drawing on the zip code dataframe that was created using Pandas.\n",
    "\n",
    "Next the Foursquare API will be accessed to search the top 100 venues within each zip code.  This list will be converted into a dataframe, and one-hot encoding will be used to determine the number of occurances of each venue category within each zip code.  The mean frequency of each category will then be taken and the updated dataframe will group the rows of the dataframe by zip code and the resulting mean frequency of each venue category.  This dataframe will be used to create a new dataframe which contains only the frequency of gyms in each zip code.  There are two categories that could be classified as a gym in Foursquare (“Gym”, and “Gym/ Fitness Center”), so frequency of both of these categories will be summed and the new dataframe will be grouped by zip code and the total frequency of the combined gym categories.\n",
    "\n",
    "Next, the zip codes will be clustered into 5 clusters based on the mean frequency of occurrence of gyms in each zip code using k-means clustering from the Scikit-learn machine learning library in Python.  The resulting cluster labels will be added to the dataframe containing the zip codes and the coordinates and population of each zip code.  \n",
    "\n",
    "The previously created Folium map displaying the city of Austin, with markers representing each zip code, will then be updated such that the markers are color-coded to identify which cluster each zip code belongs to. Finally, each cluster will be analyzed and the results will be reviewed to make a recommendation of the ideal location for a new gym in Austin, TX."
   ]
  },
  {
   "cell_type": "markdown",
   "metadata": {},
   "source": [
    "### References <a name=\"references\"></a>"
   ]
  },
  {
   "cell_type": "markdown",
   "metadata": {},
   "source": [
    "1: Centers for Disease Control and Prevention. (2020, February 27). Adult Obesity Facts. https://www.cdc.gov/obesity/data/adult.html\n",
    "\n",
    "2: Harvard T.H.Chan School of Public Health.  (2020). Obesity Prevention Source: Obesity Consequences – Economic Costs.  https://www.hsph.harvard.edu/obesity-prevention-source/obesity-consequences/economic/\n",
    "\n",
    "3: Centers for Disease Control and Prevention. (2020, April 10). Nutrition, Physical Activity, and Obesity: Data, Trends, and Maps. https://nccd.cdc.gov/dnpao_dtm/rdPage.aspx?rdReport=DNPAO_DTM.ExploreByLocation&rdRequestForwarding=Form\n",
    "\n",
    "4: Centers for Disease Control and Prevention. (2019, October 23). Overweight & Obesity  Strategies to Prevent Obesity. https://www.cdc.gov/obesity/strategies/index.html\n",
    "\n",
    "5: Centers for Disease Control and Prevention. (2020, April 10). Physical Activity Basics - Adults.  https://www.cdc.gov/physicalactivity/basics/adults/index.htm\n",
    "\n",
    "6: Statista. (2020). Sports & Recreation – Sports & Fitness.  https://www.statista.com/statistics/236123/us-fitness-center--health-club-memberships/\n",
    "\n",
    "7: SimpleMaps Interactive Maps & Data. (2020, February 27). US Zip Codes Database. https://simplemaps.com/data/us-zips"
   ]
  },
  {
   "cell_type": "code",
   "execution_count": null,
   "metadata": {},
   "outputs": [],
   "source": []
  }
 ],
 "metadata": {
  "kernelspec": {
   "display_name": "Python",
   "language": "python",
   "name": "conda-env-python-py"
  },
  "language_info": {
   "codemirror_mode": {
    "name": "ipython",
    "version": 3
   },
   "file_extension": ".py",
   "mimetype": "text/x-python",
   "name": "python",
   "nbconvert_exporter": "python",
   "pygments_lexer": "ipython3",
   "version": "3.6.10"
  }
 },
 "nbformat": 4,
 "nbformat_minor": 4
}
